{
 "cells": [
  {
   "cell_type": "markdown",
   "metadata": {},
   "source": [
    "##### 08 November 2019\n",
    "# Parse Ensembl GRCh37.87 GFF3 to a BED file of exonic regions for validation of RefSeqGFF3 exon bed file\n",
    "##### by Pavlos Bousounis\n",
    "\n",
    "***Last updated 2019-11-11***"
   ]
  },
  {
   "cell_type": "markdown",
   "metadata": {},
   "source": [
    "### Import modules"
   ]
  },
  {
   "cell_type": "code",
   "execution_count": 6,
   "metadata": {},
   "outputs": [],
   "source": [
    "from datetime import datetime\n",
    "import gffutils\n",
    "import gzip\n",
    "import numpy as np\n",
    "import os\n",
    "import pandas as pd\n",
    "import pprint\n",
    "import shutil\n",
    "import re"
   ]
  },
  {
   "cell_type": "markdown",
   "metadata": {},
   "source": [
    "### Display current working directory and today's date"
   ]
  },
  {
   "cell_type": "code",
   "execution_count": 5,
   "metadata": {},
   "outputs": [
    {
     "name": "stdout",
     "output_type": "stream",
     "text": [
      "Today is: 2019-11-11\n"
     ]
    }
   ],
   "source": [
    "today = datetime.today().strftime('%Y-%m-%d')\n",
    "\n",
    "print('Today is: {}'.format(today))"
   ]
  },
  {
   "cell_type": "markdown",
   "metadata": {},
   "source": [
    "### Specify working directory"
   ]
  },
  {
   "cell_type": "code",
   "execution_count": 3,
   "metadata": {},
   "outputs": [],
   "source": [
    "os.chdir('/Users/pbousounis/Experiments/2019-10-29_hg19mod/2019-11-08_EnsemblGFF3_GRCh37-parse2bed')"
   ]
  },
  {
   "cell_type": "markdown",
   "metadata": {},
   "source": [
    "### Define function ***gff2bed()*** \n",
    "****Note: Returns ONLY exon features***"
   ]
  },
  {
   "cell_type": "code",
   "execution_count": 4,
   "metadata": {},
   "outputs": [],
   "source": [
    "def gff2bed(gff_path_name):\n",
    "    \n",
    "    \"\"\" Given a bed file name/path, parse the contents of EXONIC records into a dataframe with attributes info separated into columns: \n",
    "        1. Read in bed as a tab-delimited file; add column names as per GFF3 spec \n",
    "        ??3. IMPORTANT: convert to 0-based positions (subtract 1 from start position); half open coordinates?\n",
    "        4. Return a bed-like pandas DataFrame\"\"\"\n",
    "\n",
    "    # define gff3 column names (https://github.com/The-Sequence-Ontology/Specifications/blob/master/gff3.md)\n",
    "    gff_cols = ['seqid', 'source', 'type', 'start', 'end', 'score', 'strand', 'phase', 'attributes']\n",
    "\n",
    "    # read in the gff3 file, skip header lines\n",
    "    gff = pd.read_csv(gff_path_name, comment='#', sep='\\t', header=None, names=gff_cols, low_memory=False)\n",
    "\n",
    "    # select only exons\n",
    "    exons = gff[gff.type == 'exon']\n",
    "\n",
    "    # extract info from gff attributes \n",
    "    exons['transcript_id'] = exons['attributes'].str.extract(r'(transcript:)(\\w+)')[1]\n",
    "    exons['exon_id'] = exons['attributes'].str.extract(r'(exon_id={1})(\\w+)')[1]\n",
    "\n",
    "    exons.rename(columns={\"seqid\": \"chrom\"}, inplace=True)\n",
    "\n",
    "    exons = exons[['chrom', 'start', 'end', 'strand', 'score', 'phase', 'transcript_id', 'exon_id', 'source']]\n",
    "    \n",
    "    exons['name'] = exons['exon_id'] + '_' + exons['transcript_id']\n",
    "    \n",
    "    return(exons[['chrom', 'start', 'end', 'name']])"
   ]
  },
  {
   "cell_type": "markdown",
   "metadata": {},
   "source": [
    "### Decompress the GFF3 archive"
   ]
  },
  {
   "cell_type": "code",
   "execution_count": 9,
   "metadata": {},
   "outputs": [],
   "source": [
    "# decompress the gunzipped file\n",
    "gff_gz = 'data/Homo_sapiens.GRCh37.87.chr.gff3.gz'\n",
    "gff_out = 'data/Homo_sapiens.GRCh37.87.chr.gff3'\n",
    "\n",
    "with gzip.open(gff_gz, 'rb') as f_in:\n",
    "    with open(gff_out, 'wb') as f_out:\n",
    "        shutil.copyfileobj(f_in, f_out)"
   ]
  },
  {
   "cell_type": "markdown",
   "metadata": {},
   "source": [
    "### Examine the structure of the GFF3 file"
   ]
  },
  {
   "cell_type": "code",
   "execution_count": 30,
   "metadata": {},
   "outputs": [],
   "source": [
    "# examiner = GFFExaminer()\n",
    "# in_handle = open(gff_out)\n",
    "# pprint.pprint(examiner.available_limits(in_handle))\n",
    "# in_handle.close()"
   ]
  },
  {
   "cell_type": "markdown",
   "metadata": {},
   "source": [
    "### Convert the Ensembl GFF3 to BED "
   ]
  },
  {
   "cell_type": "code",
   "execution_count": 5,
   "metadata": {},
   "outputs": [
    {
     "name": "stderr",
     "output_type": "stream",
     "text": [
      "/opt/anaconda3/envs/biopython/lib/python3.7/site-packages/ipykernel_launcher.py:18: SettingWithCopyWarning: \n",
      "A value is trying to be set on a copy of a slice from a DataFrame.\n",
      "Try using .loc[row_indexer,col_indexer] = value instead\n",
      "\n",
      "See the caveats in the documentation: http://pandas.pydata.org/pandas-docs/stable/user_guide/indexing.html#returning-a-view-versus-a-copy\n",
      "/opt/anaconda3/envs/biopython/lib/python3.7/site-packages/ipykernel_launcher.py:19: SettingWithCopyWarning: \n",
      "A value is trying to be set on a copy of a slice from a DataFrame.\n",
      "Try using .loc[row_indexer,col_indexer] = value instead\n",
      "\n",
      "See the caveats in the documentation: http://pandas.pydata.org/pandas-docs/stable/user_guide/indexing.html#returning-a-view-versus-a-copy\n",
      "/opt/anaconda3/envs/biopython/lib/python3.7/site-packages/pandas/core/frame.py:4238: SettingWithCopyWarning: \n",
      "A value is trying to be set on a copy of a slice from a DataFrame\n",
      "\n",
      "See the caveats in the documentation: http://pandas.pydata.org/pandas-docs/stable/user_guide/indexing.html#returning-a-view-versus-a-copy\n",
      "  return super().rename(**kwargs)\n"
     ]
    },
    {
     "data": {
      "text/html": [
       "<div>\n",
       "<style scoped>\n",
       "    .dataframe tbody tr th:only-of-type {\n",
       "        vertical-align: middle;\n",
       "    }\n",
       "\n",
       "    .dataframe tbody tr th {\n",
       "        vertical-align: top;\n",
       "    }\n",
       "\n",
       "    .dataframe thead th {\n",
       "        text-align: right;\n",
       "    }\n",
       "</style>\n",
       "<table border=\"1\" class=\"dataframe\">\n",
       "  <thead>\n",
       "    <tr style=\"text-align: right;\">\n",
       "      <th></th>\n",
       "      <th>chrom</th>\n",
       "      <th>start</th>\n",
       "      <th>end</th>\n",
       "      <th>name</th>\n",
       "    </tr>\n",
       "  </thead>\n",
       "  <tbody>\n",
       "    <tr>\n",
       "      <th>18</th>\n",
       "      <td>1</td>\n",
       "      <td>11869</td>\n",
       "      <td>12227</td>\n",
       "      <td>ENSE00002234944_ENST00000456328</td>\n",
       "    </tr>\n",
       "    <tr>\n",
       "      <th>19</th>\n",
       "      <td>1</td>\n",
       "      <td>12613</td>\n",
       "      <td>12721</td>\n",
       "      <td>ENSE00003582793_ENST00000456328</td>\n",
       "    </tr>\n",
       "    <tr>\n",
       "      <th>20</th>\n",
       "      <td>1</td>\n",
       "      <td>13221</td>\n",
       "      <td>14409</td>\n",
       "      <td>ENSE00002312635_ENST00000456328</td>\n",
       "    </tr>\n",
       "    <tr>\n",
       "      <th>22</th>\n",
       "      <td>1</td>\n",
       "      <td>11872</td>\n",
       "      <td>12227</td>\n",
       "      <td>ENSE00002234632_ENST00000515242</td>\n",
       "    </tr>\n",
       "    <tr>\n",
       "      <th>23</th>\n",
       "      <td>1</td>\n",
       "      <td>12613</td>\n",
       "      <td>12721</td>\n",
       "      <td>ENSE00003608237_ENST00000515242</td>\n",
       "    </tr>\n",
       "  </tbody>\n",
       "</table>\n",
       "</div>"
      ],
      "text/plain": [
       "   chrom  start    end                             name\n",
       "18     1  11869  12227  ENSE00002234944_ENST00000456328\n",
       "19     1  12613  12721  ENSE00003582793_ENST00000456328\n",
       "20     1  13221  14409  ENSE00002312635_ENST00000456328\n",
       "22     1  11872  12227  ENSE00002234632_ENST00000515242\n",
       "23     1  12613  12721  ENSE00003608237_ENST00000515242"
      ]
     },
     "execution_count": 5,
     "metadata": {},
     "output_type": "execute_result"
    }
   ],
   "source": [
    "# run gff2bed() on the RefSeq GRCh37 GFF3 file\n",
    "gff_file = 'data/Homo_sapiens.GRCh37.87.chr.gff3'\n",
    "ens_df = gff2bed(gff_file)\n",
    "ens_df.head()"
   ]
  },
  {
   "cell_type": "markdown",
   "metadata": {},
   "source": [
    "### Extract rows containing NAs and save them to file"
   ]
  },
  {
   "cell_type": "code",
   "execution_count": 9,
   "metadata": {},
   "outputs": [],
   "source": [
    "# create bool series True for missing values  \n",
    "bool_series = pd.isnull(ens_df[\"name\"])  \n",
    "    \n",
    "# displaying data only with name = NaN  \n",
    "ens_df_na = ens_df[bool_series] \n",
    "\n",
    "# save dataframe to file\n",
    "ens_df_na_fileout = 'output/' + today + '_Ensembl-GRCh37_GFF3_NA-names.bed'\n",
    "ens_df_na.to_csv(ens_df_na_fileout, sep='\\t', index=None, header=None)"
   ]
  },
  {
   "cell_type": "code",
   "execution_count": 8,
   "metadata": {},
   "outputs": [],
   "source": [
    "# remove rows with 'name' = NA\n",
    "ens_df = ens_df.dropna()"
   ]
  },
  {
   "cell_type": "markdown",
   "metadata": {},
   "source": [
    "### Save the parsed Ensembl bed file"
   ]
  },
  {
   "cell_type": "code",
   "execution_count": 11,
   "metadata": {},
   "outputs": [],
   "source": [
    "# save the bed file\n",
    "ens_df_fileout = today + '_Ensembl-GRCh37_GFF3.bed'\n",
    "ens_df.to_csv(os.path.join('output', ens_df_fileout), sep='\\t', index=False, header=False)"
   ]
  },
  {
   "cell_type": "markdown",
   "metadata": {},
   "source": [
    "# Results:\n",
    "\n",
    "1. Ensembl GRCh37 latest genomic GFF3 archive was decompressed\n",
    "2. Decompressed GFF3 was parsed to a bed file containing only exonic regions\n",
    "3. Rows containing NAs were removed for compatibility with pybedtools \n",
    "4. BED-formatted file saved to ***./output/2019-11-08_Ensembl-GRCh37_GFF3.bed***"
   ]
  }
 ],
 "metadata": {
  "kernelspec": {
   "display_name": "Python 3",
   "language": "python",
   "name": "python3"
  },
  "language_info": {
   "codemirror_mode": {
    "name": "ipython",
    "version": 3
   },
   "file_extension": ".py",
   "mimetype": "text/x-python",
   "name": "python",
   "nbconvert_exporter": "python",
   "pygments_lexer": "ipython3",
   "version": "3.7.3"
  }
 },
 "nbformat": 4,
 "nbformat_minor": 4
}
