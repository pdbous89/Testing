{
 "cells": [
  {
   "cell_type": "markdown",
   "metadata": {},
   "source": [
    "# Calculate recovery of clinvar variants in each refseq region\n",
    "#### Pavlos Bousounis, 30 Oct 2019\n",
    "##### Updated 11/04/2019"
   ]
  },
  {
   "cell_type": "code",
   "execution_count": 5,
   "metadata": {},
   "outputs": [],
   "source": [
    "import os\n",
    "import numpy as np\n",
    "import pandas as pd"
   ]
  },
  {
   "cell_type": "code",
   "execution_count": 4,
   "metadata": {},
   "outputs": [
    {
     "data": {
      "text/plain": [
       "'/Users/pbousounis/Experiments/2019-10-29_hg19mod/2019-10-29-RefSeq-CV_recovery'"
      ]
     },
     "execution_count": 4,
     "metadata": {},
     "output_type": "execute_result"
    }
   ],
   "source": [
    "os.getcwd()"
   ]
  },
  {
   "cell_type": "markdown",
   "metadata": {},
   "source": [
    "### Import ClinVar bed file"
   ]
  },
  {
   "cell_type": "code",
   "execution_count": 70,
   "metadata": {},
   "outputs": [
    {
     "data": {
      "text/html": [
       "<div>\n",
       "<style scoped>\n",
       "    .dataframe tbody tr th:only-of-type {\n",
       "        vertical-align: middle;\n",
       "    }\n",
       "\n",
       "    .dataframe tbody tr th {\n",
       "        vertical-align: top;\n",
       "    }\n",
       "\n",
       "    .dataframe thead th {\n",
       "        text-align: right;\n",
       "    }\n",
       "</style>\n",
       "<table border=\"1\" class=\"dataframe\">\n",
       "  <thead>\n",
       "    <tr style=\"text-align: right;\">\n",
       "      <th></th>\n",
       "      <th>chr</th>\n",
       "      <th>start</th>\n",
       "      <th>end</th>\n",
       "      <th>name</th>\n",
       "    </tr>\n",
       "  </thead>\n",
       "  <tbody>\n",
       "    <tr>\n",
       "      <th>0</th>\n",
       "      <td>chr1</td>\n",
       "      <td>949522</td>\n",
       "      <td>949523</td>\n",
       "      <td>183381_ISG15</td>\n",
       "    </tr>\n",
       "    <tr>\n",
       "      <th>1</th>\n",
       "      <td>chr1</td>\n",
       "      <td>949695</td>\n",
       "      <td>949696</td>\n",
       "      <td>161455_ISG15</td>\n",
       "    </tr>\n",
       "    <tr>\n",
       "      <th>2</th>\n",
       "      <td>chr1</td>\n",
       "      <td>949738</td>\n",
       "      <td>949739</td>\n",
       "      <td>161454_ISG15</td>\n",
       "    </tr>\n",
       "    <tr>\n",
       "      <th>3</th>\n",
       "      <td>chr1</td>\n",
       "      <td>957604</td>\n",
       "      <td>957605</td>\n",
       "      <td>243036_AGRN</td>\n",
       "    </tr>\n",
       "    <tr>\n",
       "      <th>4</th>\n",
       "      <td>chr1</td>\n",
       "      <td>957692</td>\n",
       "      <td>957693</td>\n",
       "      <td>243037_AGRN</td>\n",
       "    </tr>\n",
       "  </tbody>\n",
       "</table>\n",
       "</div>"
      ],
      "text/plain": [
       "    chr   start     end          name\n",
       "0  chr1  949522  949523  183381_ISG15\n",
       "1  chr1  949695  949696  161455_ISG15\n",
       "2  chr1  949738  949739  161454_ISG15\n",
       "3  chr1  957604  957605   243036_AGRN\n",
       "4  chr1  957692  957693   243037_AGRN"
      ]
     },
     "execution_count": 70,
     "metadata": {},
     "output_type": "execute_result"
    }
   ],
   "source": [
    "cv_bed_colnames = ['chr', 'start', 'end', 'name']\n",
    "cv_bed_file = '/Users/pbousounis/Experiments/2019-10-29_hg19mod/2019-11-06_refseq_cv_slop_intersect/bed/2019-11-05_clinvar_path-l.bed'\n",
    "cv_bed = pd.read_csv(cv_bed_file, sep='\\t', header=None, names=cv_bed_colnames)\n",
    "\n",
    "cv_bed.head()"
   ]
  },
  {
   "cell_type": "markdown",
   "metadata": {},
   "source": [
    "### Get number of ClinVar variants by gene"
   ]
  },
  {
   "cell_type": "code",
   "execution_count": 71,
   "metadata": {},
   "outputs": [
    {
     "data": {
      "text/html": [
       "<div>\n",
       "<style scoped>\n",
       "    .dataframe tbody tr th:only-of-type {\n",
       "        vertical-align: middle;\n",
       "    }\n",
       "\n",
       "    .dataframe tbody tr th {\n",
       "        vertical-align: top;\n",
       "    }\n",
       "\n",
       "    .dataframe thead th {\n",
       "        text-align: right;\n",
       "    }\n",
       "</style>\n",
       "<table border=\"1\" class=\"dataframe\">\n",
       "  <thead>\n",
       "    <tr style=\"text-align: right;\">\n",
       "      <th></th>\n",
       "      <th>chr</th>\n",
       "      <th>start</th>\n",
       "      <th>end</th>\n",
       "      <th>name</th>\n",
       "      <th>gene</th>\n",
       "    </tr>\n",
       "  </thead>\n",
       "  <tbody>\n",
       "    <tr>\n",
       "      <th>0</th>\n",
       "      <td>chr1</td>\n",
       "      <td>949522</td>\n",
       "      <td>949523</td>\n",
       "      <td>183381_ISG15</td>\n",
       "      <td>ISG15</td>\n",
       "    </tr>\n",
       "    <tr>\n",
       "      <th>1</th>\n",
       "      <td>chr1</td>\n",
       "      <td>949695</td>\n",
       "      <td>949696</td>\n",
       "      <td>161455_ISG15</td>\n",
       "      <td>ISG15</td>\n",
       "    </tr>\n",
       "    <tr>\n",
       "      <th>2</th>\n",
       "      <td>chr1</td>\n",
       "      <td>949738</td>\n",
       "      <td>949739</td>\n",
       "      <td>161454_ISG15</td>\n",
       "      <td>ISG15</td>\n",
       "    </tr>\n",
       "    <tr>\n",
       "      <th>3</th>\n",
       "      <td>chr1</td>\n",
       "      <td>957604</td>\n",
       "      <td>957605</td>\n",
       "      <td>243036_AGRN</td>\n",
       "      <td>AGRN</td>\n",
       "    </tr>\n",
       "    <tr>\n",
       "      <th>4</th>\n",
       "      <td>chr1</td>\n",
       "      <td>957692</td>\n",
       "      <td>957693</td>\n",
       "      <td>243037_AGRN</td>\n",
       "      <td>AGRN</td>\n",
       "    </tr>\n",
       "  </tbody>\n",
       "</table>\n",
       "</div>"
      ],
      "text/plain": [
       "    chr   start     end          name   gene\n",
       "0  chr1  949522  949523  183381_ISG15  ISG15\n",
       "1  chr1  949695  949696  161455_ISG15  ISG15\n",
       "2  chr1  949738  949739  161454_ISG15  ISG15\n",
       "3  chr1  957604  957605   243036_AGRN   AGRN\n",
       "4  chr1  957692  957693   243037_AGRN   AGRN"
      ]
     },
     "execution_count": 71,
     "metadata": {},
     "output_type": "execute_result"
    }
   ],
   "source": [
    "# extract gene names from 'name' into new column\n",
    "cv_bed['gene'] = cv_bed['name'].str.extract(r'(\\d+_)(\\w+)')[1]\n",
    "cv_bed.head()"
   ]
  },
  {
   "cell_type": "code",
   "execution_count": 72,
   "metadata": {},
   "outputs": [
    {
     "data": {
      "text/html": [
       "<div>\n",
       "<style scoped>\n",
       "    .dataframe tbody tr th:only-of-type {\n",
       "        vertical-align: middle;\n",
       "    }\n",
       "\n",
       "    .dataframe tbody tr th {\n",
       "        vertical-align: top;\n",
       "    }\n",
       "\n",
       "    .dataframe thead th {\n",
       "        text-align: right;\n",
       "    }\n",
       "</style>\n",
       "<table border=\"1\" class=\"dataframe\">\n",
       "  <thead>\n",
       "    <tr style=\"text-align: right;\">\n",
       "      <th></th>\n",
       "      <th>chr</th>\n",
       "      <th>start</th>\n",
       "      <th>end</th>\n",
       "      <th>name</th>\n",
       "      <th>gene</th>\n",
       "      <th>total_gene_vars</th>\n",
       "    </tr>\n",
       "  </thead>\n",
       "  <tbody>\n",
       "    <tr>\n",
       "      <th>0</th>\n",
       "      <td>chr1</td>\n",
       "      <td>949522</td>\n",
       "      <td>949523</td>\n",
       "      <td>183381_ISG15</td>\n",
       "      <td>ISG15</td>\n",
       "      <td>3.0</td>\n",
       "    </tr>\n",
       "    <tr>\n",
       "      <th>1</th>\n",
       "      <td>chr1</td>\n",
       "      <td>949695</td>\n",
       "      <td>949696</td>\n",
       "      <td>161455_ISG15</td>\n",
       "      <td>ISG15</td>\n",
       "      <td>3.0</td>\n",
       "    </tr>\n",
       "    <tr>\n",
       "      <th>2</th>\n",
       "      <td>chr1</td>\n",
       "      <td>949738</td>\n",
       "      <td>949739</td>\n",
       "      <td>161454_ISG15</td>\n",
       "      <td>ISG15</td>\n",
       "      <td>3.0</td>\n",
       "    </tr>\n",
       "    <tr>\n",
       "      <th>3</th>\n",
       "      <td>chr1</td>\n",
       "      <td>957604</td>\n",
       "      <td>957605</td>\n",
       "      <td>243036_AGRN</td>\n",
       "      <td>AGRN</td>\n",
       "      <td>15.0</td>\n",
       "    </tr>\n",
       "    <tr>\n",
       "      <th>4</th>\n",
       "      <td>chr1</td>\n",
       "      <td>957692</td>\n",
       "      <td>957693</td>\n",
       "      <td>243037_AGRN</td>\n",
       "      <td>AGRN</td>\n",
       "      <td>15.0</td>\n",
       "    </tr>\n",
       "  </tbody>\n",
       "</table>\n",
       "</div>"
      ],
      "text/plain": [
       "    chr   start     end          name   gene  total_gene_vars\n",
       "0  chr1  949522  949523  183381_ISG15  ISG15              3.0\n",
       "1  chr1  949695  949696  161455_ISG15  ISG15              3.0\n",
       "2  chr1  949738  949739  161454_ISG15  ISG15              3.0\n",
       "3  chr1  957604  957605   243036_AGRN   AGRN             15.0\n",
       "4  chr1  957692  957693   243037_AGRN   AGRN             15.0"
      ]
     },
     "execution_count": 72,
     "metadata": {},
     "output_type": "execute_result"
    }
   ],
   "source": [
    "cv_bed['total_gene_vars'] = cv_bed.groupby('gene')['gene'].transform('count')\n",
    "cv_bed.head()"
   ]
  },
  {
   "cell_type": "code",
   "execution_count": 73,
   "metadata": {},
   "outputs": [],
   "source": [
    "# save the modified table\n",
    "cv_bed.to_csv(cv_bed_file, sep='\\t', index=False, header=True)"
   ]
  },
  {
   "cell_type": "markdown",
   "metadata": {},
   "source": [
    "### Import RefSeq exons table"
   ]
  },
  {
   "cell_type": "code",
   "execution_count": 16,
   "metadata": {},
   "outputs": [
    {
     "data": {
      "text/html": [
       "<div>\n",
       "<style scoped>\n",
       "    .dataframe tbody tr th:only-of-type {\n",
       "        vertical-align: middle;\n",
       "    }\n",
       "\n",
       "    .dataframe tbody tr th {\n",
       "        vertical-align: top;\n",
       "    }\n",
       "\n",
       "    .dataframe thead th {\n",
       "        text-align: right;\n",
       "    }\n",
       "</style>\n",
       "<table border=\"1\" class=\"dataframe\">\n",
       "  <thead>\n",
       "    <tr style=\"text-align: right;\">\n",
       "      <th></th>\n",
       "      <th>chr</th>\n",
       "      <th>start</th>\n",
       "      <th>end</th>\n",
       "      <th>strand</th>\n",
       "      <th>name</th>\n",
       "    </tr>\n",
       "  </thead>\n",
       "  <tbody>\n",
       "    <tr>\n",
       "      <td>0</td>\n",
       "      <td>1</td>\n",
       "      <td>11873</td>\n",
       "      <td>12226</td>\n",
       "      <td>+</td>\n",
       "      <td>NR_046018</td>\n",
       "    </tr>\n",
       "    <tr>\n",
       "      <td>1</td>\n",
       "      <td>1</td>\n",
       "      <td>12612</td>\n",
       "      <td>12720</td>\n",
       "      <td>+</td>\n",
       "      <td>NR_046018</td>\n",
       "    </tr>\n",
       "    <tr>\n",
       "      <td>2</td>\n",
       "      <td>1</td>\n",
       "      <td>13220</td>\n",
       "      <td>14408</td>\n",
       "      <td>+</td>\n",
       "      <td>NR_046018</td>\n",
       "    </tr>\n",
       "    <tr>\n",
       "      <td>3</td>\n",
       "      <td>1</td>\n",
       "      <td>29320</td>\n",
       "      <td>29369</td>\n",
       "      <td>-</td>\n",
       "      <td>NR_024540</td>\n",
       "    </tr>\n",
       "    <tr>\n",
       "      <td>4</td>\n",
       "      <td>1</td>\n",
       "      <td>24737</td>\n",
       "      <td>24890</td>\n",
       "      <td>-</td>\n",
       "      <td>NR_024540</td>\n",
       "    </tr>\n",
       "  </tbody>\n",
       "</table>\n",
       "</div>"
      ],
      "text/plain": [
       "  chr  start    end strand       name\n",
       "0   1  11873  12226      +  NR_046018\n",
       "1   1  12612  12720      +  NR_046018\n",
       "2   1  13220  14408      +  NR_046018\n",
       "3   1  29320  29369      -  NR_024540\n",
       "4   1  24737  24890      -  NR_024540"
      ]
     },
     "execution_count": 16,
     "metadata": {},
     "output_type": "execute_result"
    }
   ],
   "source": [
    "rs_exons_file = '/Users/pbousounis/Experiments/2019-10-29_hg19mod/2019-10-29-RefSeq-CV_recovery/2019-11-04_RefSeq_parsed_bed.bed'\n",
    "rs_exons_colnames = ['chr', 'start', 'end', 'strand', 'name']\n",
    "rs_exons = pd.read_csv(rs_exons_file, sep='\\t', header=None, low_memory=False, names=rs_exons_colnames)\n",
    "rs_exons.head()"
   ]
  },
  {
   "cell_type": "code",
   "execution_count": 17,
   "metadata": {},
   "outputs": [],
   "source": [
    "# # remove 'chr' prefix from chromosome IDs column\n",
    "# rs_exons[0] = rs_exons[0].str.extract('(chr)(\\w+)')[1]\n",
    "# rs_exons[0].astype('int64').dtypes\n",
    "# rs_exons.head()"
   ]
  },
  {
   "cell_type": "markdown",
   "metadata": {},
   "source": [
    "## Define function: ***bed_not()***"
   ]
  },
  {
   "cell_type": "code",
   "execution_count": 18,
   "metadata": {},
   "outputs": [],
   "source": [
    "import pybedtools\n",
    "from pybedtools import BedTool\n",
    "\n",
    "\n",
    "# define the not-element-of function to get regions unique to the test_bed file\n",
    "def bed_not(ref_bed_filepath, test_bed_filepath):\n",
    "    \n",
    "    \"\"\" Given two bed files, ref_bed and test_bed, perform bedtools intersect -v to return only\n",
    "    regions in the ref_bed file that do NOT overlap any regions in the test_bed file.\"\"\"\n",
    "    \n",
    "    cwd = os.getcwd()\n",
    "    \n",
    "    # specify the reference bed file\n",
    "    ref_bedtool = BedTool(ref_bed_filepath)\n",
    "    prfx_ref = ref_bed_filepath.split('/')[-1]\n",
    "    prfx_ref = prfx_ref.split('.')[0]\n",
    "    \n",
    "    # specify the new ClinVar bed file\n",
    "    test_bedtool = BedTool(test_bed_filepath)\n",
    "    prfx_test = test_bed_filepath.split('/')[-1]\n",
    "    prfx_test = prfx_test.split('.')[0]\n",
    "\n",
    "    # specify name/path of output bed file\n",
    "    out_bed_filepath = '{}/{}_NotIn_{}.bed'.format(cwd, prfx_test, prfx_ref)\n",
    "    \n",
    "    # run bedtools intersect to get all test_bed regions NOT found in ref_bed (-v option)\n",
    "    ref_NotIn_test = test_bedtool.intersect(b=ref_bedtool, v=True)\n",
    "    ref_NotIn_test.head()\n",
    "    \n",
    "    ref_NotIn_test.saveas(out_bed_filepath, trackline=\"track name='ClinVar loci NOT IN TSO bed file'\")\n",
    "    feat_count = ref_NotIn_test.count()\n",
    "    \n",
    "    # confirm file saved\n",
    "    print('\\nNumber of {} features NOT IN {} = {}'.format(prfx_test, prfx_ref, feat_count))\n",
    "    \n",
    "    if os.path.exists(out_bed_filepath):\n",
    "        print('Success! File saved to {}.'.format(os.path.join(cwd, out_bed_filepath)))\n",
    "\n",
    "    return(feat_count)"
   ]
  },
  {
   "cell_type": "code",
   "execution_count": 19,
   "metadata": {},
   "outputs": [
    {
     "name": "stdout",
     "output_type": "stream",
     "text": [
      "1\t11873\t12226\t+\tNR_046018\n",
      " 1\t12612\t12720\t+\tNR_046018\n",
      " 1\t13220\t14408\t+\tNR_046018\n",
      " 1\t29320\t29369\t-\tNR_024540\n",
      " 1\t24737\t24890\t-\tNR_024540\n",
      " 1\t18267\t18365\t-\tNR_024540\n",
      " 1\t17914\t18060\t-\tNR_024540\n",
      " 1\t17605\t17741\t-\tNR_024540\n",
      " 1\t17232\t17367\t-\tNR_024540\n",
      " 1\t16857\t17054\t-\tNR_024540\n",
      " \n",
      "Number of 2019-11-04_RefSeq_parsed_bed features NOT IN clinvar_path-l = 517734\n",
      "Success! File saved to /Users/pbousounis/Experiments/2019-10-29_hg19mod/2019-10-29-RefSeq-CV_recovery/2019-11-04_RefSeq_parsed_bed_NotIn_clinvar_path-l.bed.\n"
     ]
    }
   ],
   "source": [
    "x = bed_not(cv_bed_file, rs_exons_file)"
   ]
  },
  {
   "cell_type": "code",
   "execution_count": null,
   "metadata": {},
   "outputs": [],
   "source": []
  }
 ],
 "metadata": {
  "kernelspec": {
   "display_name": "Python 3",
   "language": "python",
   "name": "python3"
  },
  "language_info": {
   "codemirror_mode": {
    "name": "ipython",
    "version": 3
   },
   "file_extension": ".py",
   "mimetype": "text/x-python",
   "name": "python",
   "nbconvert_exporter": "python",
   "pygments_lexer": "ipython3",
   "version": "3.7.3"
  }
 },
 "nbformat": 4,
 "nbformat_minor": 4
}
