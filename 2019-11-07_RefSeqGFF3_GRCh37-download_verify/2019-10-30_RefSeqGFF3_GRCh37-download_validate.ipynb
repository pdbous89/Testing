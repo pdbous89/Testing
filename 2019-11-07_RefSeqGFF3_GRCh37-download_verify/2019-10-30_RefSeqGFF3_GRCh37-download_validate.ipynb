{
 "cells": [
  {
   "cell_type": "markdown",
   "metadata": {},
   "source": [
    "### 22 October 2019\n",
    "# Download the latest RefSeq GRCh37 GFF3 genomic annotation file and verify its integrity\n",
    "### by Pavlos Bousounis\n",
    "***last updated 11/07/2019***"
   ]
  },
  {
   "cell_type": "markdown",
   "metadata": {},
   "source": [
    "* SOURCE FTP DIRECTORY: ***ftp.ncbi.nlm.nih.gov/refseq/H_sapiens/annotation/GRCh37_latest/refseq_identifiers***\n",
    "* FILE: ***GRCh37_latest_genomic.gff.gz***\n",
    "* LAST MODIFIED: ***4/24/18, 8:00:00 PM***\n",
    "* ASSEMBLY: ***GRCh37.p13***\n",
    "* TYPE: ***interim (current known RefSeqs)***\n",
    "* KNOWN REFSEQS FROM: ***1-13-2017***\n",
    "* MODEL REFSEQS FROM: ***none included***\n",
    "\n",
    "* FILE ACCESSED ON: ***11 November, 2019***"
   ]
  },
  {
   "cell_type": "markdown",
   "metadata": {},
   "source": [
    "### Import modules"
   ]
  },
  {
   "cell_type": "code",
   "execution_count": 30,
   "metadata": {},
   "outputs": [],
   "source": [
    "from datetime import datetime\n",
    "from ftplib import FTP\n",
    "import hashlib\n",
    "import os\n",
    "import pathlib\n",
    "import shutil"
   ]
  },
  {
   "cell_type": "code",
   "execution_count": 31,
   "metadata": {},
   "outputs": [
    {
     "name": "stdout",
     "output_type": "stream",
     "text": [
      "Current working directory: /Users/pbousounis/Experiments/2019-10-29_hg19mod/RefSeqGFF3_GRCh37-download_validate\n",
      "\n",
      "Today is: 2019-11-07\n"
     ]
    }
   ],
   "source": [
    "today = datetime.today().strftime('%Y-%m-%d')\n",
    "\n",
    "print('Current working directory: {}\\n'.format(os.getcwd()))\n",
    "print('Today is: {}'.format(today))"
   ]
  },
  {
   "cell_type": "markdown",
   "metadata": {},
   "source": [
    "### Set working directory"
   ]
  },
  {
   "cell_type": "code",
   "execution_count": 9,
   "metadata": {},
   "outputs": [],
   "source": [
    "basedir = '/Users/pbousounis/Experiments/2019-10-29_hg19mod/RefSeqGFF3_GRCh37-download_validate'\n",
    "os.chdir(basedir)"
   ]
  },
  {
   "cell_type": "markdown",
   "metadata": {},
   "source": [
    "### Define function ***fetch_refseq()***"
   ]
  },
  {
   "cell_type": "code",
   "execution_count": 12,
   "metadata": {},
   "outputs": [],
   "source": [
    "\"\"\" Given a FTP server address, user name, password, FTP filepath, and filename:\n",
    "    1. Download the desired file from the specified FTP directory\n",
    "    2. Download the associated md5checksum file\n",
    "    3. Compare the md5checksums to verify file integrity \"\"\"\n",
    "\n",
    "def fetch_refseq(server, user, passwd, path, filename):\n",
    "    \n",
    "    # specify domain name\n",
    "    ftp = FTP(server)\n",
    "    ftp.login(user = user, passwd = passwd)\n",
    "    \n",
    "    # specify FTP directory\n",
    "    ftp.cwd(path)\n",
    "    \n",
    "    # create/specify output directory\n",
    "    os.makedirs(filename, exist_ok = True)\n",
    "    \n",
    "    # prepare local file to be written according to remote file contents\n",
    "    file_path_out = os.path.join(filename, filename)\n",
    "    localfile = open(file_path_out, 'wb')\n",
    "    \n",
    "    # retrieve binary data from server and write to local file\n",
    "    # buffering: 1024 chunks transferred at a time\n",
    "    ftp.retrbinary('RETR ' + filename, localfile.write, 1024)\n",
    "    ftp.quit()\n",
    "    localfile.close()\n",
    "    \n",
    "    if os.path.isfile(os.path.join(filename, filename)):\n",
    "        print('Success! {} saved to {}'.format(filename, file_path_out))\n",
    "    else:\n",
    "        print('ERROR: file not downloaded.')"
   ]
  },
  {
   "cell_type": "markdown",
   "metadata": {},
   "source": [
    "### Define function ***check_md5()***"
   ]
  },
  {
   "cell_type": "code",
   "execution_count": 13,
   "metadata": {},
   "outputs": [],
   "source": [
    "def check_md5(file, checksum_file):\n",
    "    \n",
    "    \"\"\" Given a newly downloaded database file:\n",
    "        * Compare md5 checksums of downloaded file ('file') and associated md5 file ('checksum_file') \"\"\"\n",
    "    \n",
    "    # Open the downloaded checksum file\n",
    "    with open(checksum_file, 'rb') as checksumFile:\n",
    "        md5Checksum = checksumFile.read()\n",
    "        ref_md5 = str(md5Checksum.split()[0]).split(\"\\'\")[1]\n",
    "\n",
    "    # Calculate the downloaded VCF md5sum\n",
    "    md5_hash = hashlib.md5()\n",
    "\n",
    "    with open(file,'rb') as f:\n",
    "\n",
    "        # Read and update hash in chunks of 4K\n",
    "        for byte_block in iter(lambda: f.read(4096),b\"\"):\n",
    "            md5_hash.update(byte_block)\n",
    "\n",
    "        vcf_md5 = md5_hash.hexdigest()\n",
    "\n",
    "    # Reference md5sum\n",
    "    print(f'Reference md5sum - {ref_md5}')\n",
    "    # VCF calculated md5sum\n",
    "    print(f'VCF md5sum ------- {vcf_md5}\\n')\n",
    "\n",
    "    if ref_md5 == vcf_md5:\n",
    "        print(\"MATCH\")\n",
    "    else:\n",
    "        print(\"ERROR: NO MATCH\")"
   ]
  },
  {
   "cell_type": "markdown",
   "metadata": {},
   "source": [
    "### Download the latest RefSeq GRCh37 GFF3 genomic annotation file from the NCBI FTP server to a new directory"
   ]
  },
  {
   "cell_type": "code",
   "execution_count": 20,
   "metadata": {},
   "outputs": [
    {
     "name": "stdout",
     "output_type": "stream",
     "text": [
      "Success! GRCh37_latest_genomic.gff.gz saved to GRCh37_latest_genomic.gff.gz/GRCh37_latest_genomic.gff.gz\n",
      "SUCCESS!\n"
     ]
    }
   ],
   "source": [
    "# fetch the annotation file\n",
    "fetch_refseq('ftp.ncbi.nlm.nih.gov',\n",
    "            'anonymous', 'pbousounis@childrensnational.org',\n",
    "            '/refseq/H_sapiens/annotation/GRCh37_latest/refseq_identifiers/', \n",
    "             'GRCh37_latest_genomic.gff.gz')"
   ]
  },
  {
   "cell_type": "markdown",
   "metadata": {},
   "source": [
    "### Fetch the associated checksum file if present"
   ]
  },
  {
   "cell_type": "code",
   "execution_count": 25,
   "metadata": {},
   "outputs": [
    {
     "name": "stdout",
     "output_type": "stream",
     "text": [
      "WARNING: checksum file could not be located/downloaded.\n",
      "Finished.\n"
     ]
    }
   ],
   "source": [
    "try:\n",
    "    fetch_refseq('ftp.ncbi.nlm.nih.gov',\n",
    "                 'anonymous', 'pbousounis@childrensnational.org',\n",
    "                 '/refseq/H_sapiens/annotation/GRCh37_latest/refseq_identifiers/', \n",
    "                 'GRCh37_latest_genomic.gff.gz.md5')\n",
    "except:\n",
    "    print(\"WARNING: checksum file could not be located/downloaded.\")\n",
    "    shutil.rmtree('GRCh37_latest_genomic.gff.gz.md5')\n",
    "finally:\n",
    "    print(\"Finished.\")"
   ]
  },
  {
   "cell_type": "markdown",
   "metadata": {},
   "source": [
    "## Results:\n",
    "\n",
    "1. ***GRCh37_latest_genomic.gff.gz*** was downloaded from ***ftp.ncbi.nlm.nih.gov/refseq/H_sapiens/annotation/GRCh37_latest/refseq_identifiers/*** to ***/Users/pbousounis/Experiments/2019-10-29_hg19mod/RefSeqGFF3_GRCh37-download_validate***\n",
    "\n",
    "2. No associated checksum file was found on the server"
   ]
  }
 ],
 "metadata": {
  "kernelspec": {
   "display_name": "Python 3",
   "language": "python",
   "name": "python3"
  },
  "language_info": {
   "codemirror_mode": {
    "name": "ipython",
    "version": 3
   },
   "file_extension": ".py",
   "mimetype": "text/x-python",
   "name": "python",
   "nbconvert_exporter": "python",
   "pygments_lexer": "ipython3",
   "version": "3.7.3"
  }
 },
 "nbformat": 4,
 "nbformat_minor": 4
}
