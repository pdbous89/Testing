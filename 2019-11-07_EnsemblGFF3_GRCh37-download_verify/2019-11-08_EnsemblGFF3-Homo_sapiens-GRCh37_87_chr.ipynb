{
 "cells": [
  {
   "cell_type": "markdown",
   "metadata": {},
   "source": [
    "### 4 November 2019\n",
    "# Download the latest Ensembl GRCh37.87 GFF3 genomic annotation file and verify its integrity\n",
    "### by Pavlos Bousounis\n",
    "***last updated 11/08/2019***"
   ]
  },
  {
   "cell_type": "markdown",
   "metadata": {},
   "source": [
    "* SOURCE FTP DIRECTORY: ***ftp.ensembl.org/pub/grch37/current/gff3/homo_sapiens/***\n",
    "* FILE: ***Homo_sapiens.GRCh37.87.chr.gff3.gz***\n",
    "* LAST MODIFIED: ***3/20/17, 12:00:00 AM***\n",
    "* ASSEMBLY: ***GRCh37.87***\n",
    "\n",
    "\n",
    "* FILE ACCESSED ON: ***4 Nov, 2019***"
   ]
  },
  {
   "cell_type": "markdown",
   "metadata": {},
   "source": [
    "### Import modules"
   ]
  },
  {
   "cell_type": "code",
   "execution_count": 52,
   "metadata": {},
   "outputs": [],
   "source": [
    "from datetime import datetime\n",
    "from ftplib import FTP\n",
    "import hashlib\n",
    "import os\n",
    "import pandas as pd\n",
    "import pathlib\n",
    "import re\n",
    "import shutil\n",
    "import subprocess"
   ]
  },
  {
   "cell_type": "code",
   "execution_count": 2,
   "metadata": {},
   "outputs": [
    {
     "name": "stdout",
     "output_type": "stream",
     "text": [
      "Current working directory: /Users/pbousounis/Experiments/2019-10-29_hg19mod/2019-11-07_EnsemblGFF3_GRCh37-download_verify\n",
      "\n",
      "Today is: 2019-11-08\n"
     ]
    }
   ],
   "source": [
    "today = datetime.today().strftime('%Y-%m-%d')\n",
    "\n",
    "print('Current working directory: {}\\n'.format(os.getcwd()))\n",
    "print('Today is: {}'.format(today))"
   ]
  },
  {
   "cell_type": "markdown",
   "metadata": {},
   "source": [
    "### Set working directory"
   ]
  },
  {
   "cell_type": "code",
   "execution_count": 3,
   "metadata": {},
   "outputs": [],
   "source": [
    "basedir = '/Users/pbousounis/Experiments/2019-10-29_hg19mod/2019-11-07_EnsemblGFF3_GRCh37-download_verify'\n",
    "os.chdir(basedir)"
   ]
  },
  {
   "cell_type": "markdown",
   "metadata": {},
   "source": [
    "### Define function ***fetch_ensembl()***"
   ]
  },
  {
   "cell_type": "code",
   "execution_count": 6,
   "metadata": {},
   "outputs": [],
   "source": [
    "\"\"\" Given a FTP server address, user name, password, FTP filepath, and filename:\n",
    "    1. Download the desired file from the specified FTP directory\n",
    "    2. Download the associated md5checksum file\n",
    "    3. Compare the md5checksums to verify file integrity \"\"\"\n",
    "\n",
    "def fetch_ensembl(server, user, passwd, path, filename):\n",
    "    \n",
    "    # specify domain name\n",
    "    ftp = FTP(server)\n",
    "    ftp.login(user = user, passwd = passwd)\n",
    "    \n",
    "    # specify FTP directory\n",
    "    ftp.cwd(path)\n",
    "    \n",
    "    # create/specify output directory\n",
    "    os.makedirs(filename, exist_ok = True)\n",
    "    \n",
    "    # prepare local file to be written according to remote file contents\n",
    "    file_path_out = os.path.join(filename, filename)\n",
    "    localfile = open(file_path_out, 'wb')\n",
    "    \n",
    "    # retrieve binary data from server and write to local file\n",
    "    # buffering: 1024 chunks transferred at a time\n",
    "    ftp.retrbinary('RETR ' + filename, localfile.write, 1024)\n",
    "    ftp.quit()\n",
    "    localfile.close()\n",
    "    \n",
    "    if os.path.isfile(os.path.join(filename, filename)):\n",
    "        print('Success! {} saved to {}'.format(filename, file_path_out))\n",
    "    else:\n",
    "        print('ERROR: file not downloaded.')"
   ]
  },
  {
   "cell_type": "markdown",
   "metadata": {},
   "source": [
    "### Download the latest RefSeq GRCh37 GFF3 genomic annotation file from the NCBI FTP server to a new directory"
   ]
  },
  {
   "cell_type": "code",
   "execution_count": 7,
   "metadata": {},
   "outputs": [
    {
     "name": "stdout",
     "output_type": "stream",
     "text": [
      "Success! Homo_sapiens.GRCh37.87.chr.gff3.gz saved to Homo_sapiens.GRCh37.87.chr.gff3.gz/Homo_sapiens.GRCh37.87.chr.gff3.gz\n"
     ]
    }
   ],
   "source": [
    "# fetch the annotation file\n",
    "fetch_ensembl('ftp.ensembl.org',\n",
    "            'anonymous', 'pbousounis@childrensnational.org',\n",
    "            '/pub/grch37/current/gff3/homo_sapiens/', \n",
    "             'Homo_sapiens.GRCh37.87.chr.gff3.gz')"
   ]
  },
  {
   "cell_type": "markdown",
   "metadata": {},
   "source": [
    "### Fetch the associated checksum file if present"
   ]
  },
  {
   "cell_type": "code",
   "execution_count": 11,
   "metadata": {},
   "outputs": [
    {
     "name": "stdout",
     "output_type": "stream",
     "text": [
      "Success! CHECKSUMS saved to CHECKSUMS/CHECKSUMS\n",
      "Finished.\n"
     ]
    }
   ],
   "source": [
    "try:\n",
    "    fetch_ensembl('ftp.ensembl.org',\n",
    "                  'anonymous', \n",
    "                  'pbousounis@childrensnational.org',\n",
    "                  '/pub/grch37/current/gff3/homo_sapiens/',\n",
    "                  'CHECKSUMS')\n",
    "except:\n",
    "    print(\"WARNING: checksum file could not be located/downloaded.\")\n",
    "    shutil.rmtree('CHECKSUMS')\n",
    "finally:\n",
    "    print(\"Finished.\")"
   ]
  },
  {
   "cell_type": "markdown",
   "metadata": {},
   "source": [
    "### Define function: ***unix_checksum()***"
   ]
  },
  {
   "cell_type": "code",
   "execution_count": 98,
   "metadata": {},
   "outputs": [],
   "source": [
    "def unix_checksum(file, checksum_file):\n",
    "\n",
    "    # calculate the GFF3 checksum\n",
    "    tmp = str(subprocess.check_output([\"cksum\", \"-o\", \"1\", file]))\n",
    "    file_checksum = re.search(r'(b.{1})(\\d+ \\d+)', tmp)[2]\n",
    "\n",
    "    # get the associated checksum from the downloaded CHECKSUMS file\n",
    "    checksums = pd.read_csv(checksum_file, sep='\\s+', header=None)\n",
    "    tmp = checksums[checksums[2] == file.split('/')[0]]\n",
    "    checksum = str(tmp.iloc[0,0]) + ' ' + str(tmp.iloc[0,1])\n",
    "\n",
    "    # Reference md5sum\n",
    "    print('Reference CHECKSUM - {}'.format(checksum))\n",
    "    # VCF calculated md5sum\n",
    "    print('GFF3 CHECKSUM ------ {}\\n'.format(file_checksum))\n",
    "\n",
    "    if file_checksum == checksum:\n",
    "        print(\"MATCH\")\n",
    "    else:\n",
    "        print(\"ERROR: NO MATCH\")"
   ]
  },
  {
   "cell_type": "markdown",
   "metadata": {},
   "source": [
    "### Compare checksums (Unix algorithm 1 via cksum)"
   ]
  },
  {
   "cell_type": "code",
   "execution_count": 99,
   "metadata": {},
   "outputs": [
    {
     "name": "stdout",
     "output_type": "stream",
     "text": [
      "Reference CHECKSUM - 55529 36985\n",
      "GFF3 CHECKSUM ------ 55529 36985\n",
      "\n",
      "MATCH\n"
     ]
    }
   ],
   "source": [
    "file = 'Homo_sapiens.GRCh37.87.chr.gff3.gz/Homo_sapiens.GRCh37.87.chr.gff3.gz'\n",
    "checksum_file = 'CHECKSUMS/CHECKSUMS'\n",
    "\n",
    "unix_checksum(file, checksum_file)"
   ]
  },
  {
   "cell_type": "markdown",
   "metadata": {},
   "source": [
    "## Results:\n",
    "\n",
    "1. ***Homo_sapiens.GRCh37.87.chr.gff3.gz*** was downloaded from ***ftp.ensembl.org/pub/grch37/current/gff3/homo_sapiens/*** to ***/Users/pbousounis/Experiments/2019-10-29_hg19mod/2019-11-07_EnsemblGFF3_GRCh37-download_verify/Homo_sapiens.GRCh37.87.chr.gff3.gz/***\n",
    "\n",
    "2. ***CHECKSUM*** was downloaded from ***ftp.ensembl.org/pub/grch37/current/gff3/homo_sapiens/*** to ***/Users/pbousounis/Experiments/2019-10-29_hg19mod/2019-11-07_EnsemblGFF3_GRCh37-download_verify/CHECKSUM/***\n",
    "\n",
    "3. Homo_sapiens.GRCh37.87.chr.gff3.gz - associated Unix checksum was extracted from CHECKSUM file and succesfully matched with the Unix checksum calculated from Homo_sapiens.GRCh37.87.chr.gff3.gz"
   ]
  }
 ],
 "metadata": {
  "kernelspec": {
   "display_name": "Python 3",
   "language": "python",
   "name": "python3"
  },
  "language_info": {
   "codemirror_mode": {
    "name": "ipython",
    "version": 3
   },
   "file_extension": ".py",
   "mimetype": "text/x-python",
   "name": "python",
   "nbconvert_exporter": "python",
   "pygments_lexer": "ipython3",
   "version": "3.7.4"
  }
 },
 "nbformat": 4,
 "nbformat_minor": 4
}
