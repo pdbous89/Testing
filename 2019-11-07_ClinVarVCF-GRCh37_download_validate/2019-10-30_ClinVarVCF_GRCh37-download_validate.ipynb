{
 "cells": [
  {
   "cell_type": "markdown",
   "metadata": {},
   "source": [
    "### 22 October 2019\n",
    "# Download the latest ClinVar GRCh37 VCF clinical variants file and verify its integrity\n",
    "### by Pavlos Bousounis\n",
    "***last updated 11/07/2019***"
   ]
  },
  {
   "cell_type": "markdown",
   "metadata": {},
   "source": [
    "1. Download the GRCh37 ClinVar variants file\n",
    "2. Download the GRCh37 ClinVar variants checksum file\n",
    "3. Compare checksum file with calculated checksum of downloaded file to verify download integrity"
   ]
  },
  {
   "cell_type": "markdown",
   "metadata": {},
   "source": [
    "#### Input file metadata:\n",
    "* SOURCE FTP DIRECTORY: ***ftp.ncbi.nlm.nih.gov/pub/clinvar/vcf_GRCh37/***\n",
    "* FILE: ***clinvar.vcf.gz***\n",
    "* LAST MODIFIED: ***4/24/18, 8:00:00 PM***\n",
    "* ASSEMBLY: ***GRCh37***\n",
    "* TYPE: \n",
    "* KNOWN REFSEQS FROM: \n",
    "* MODEL REFSEQS FROM: \n",
    "* FILE ACCESSED ON: ***10 Oct, 2019***"
   ]
  },
  {
   "cell_type": "markdown",
   "metadata": {},
   "source": [
    "### Import modules"
   ]
  },
  {
   "cell_type": "code",
   "execution_count": 2,
   "metadata": {},
   "outputs": [],
   "source": [
    "from datetime import datetime\n",
    "from ftplib import FTP\n",
    "import hashlib\n",
    "import os\n",
    "import pathlib\n",
    "import shutil"
   ]
  },
  {
   "cell_type": "code",
   "execution_count": 3,
   "metadata": {},
   "outputs": [
    {
     "name": "stdout",
     "output_type": "stream",
     "text": [
      "Current working directory: /Users/pbousounis/Experiments/2019-10-29_hg19mod/ClinVarVCF-GRCh37_download_validate\n",
      "\n",
      "Today is: 2019-11-07\n"
     ]
    }
   ],
   "source": [
    "today = datetime.today().strftime('%Y-%m-%d')\n",
    "\n",
    "print('Current working directory: {}\\n'.format(os.getcwd()))\n",
    "print('Today is: {}'.format(today))"
   ]
  },
  {
   "cell_type": "markdown",
   "metadata": {},
   "source": [
    "### Set working directory"
   ]
  },
  {
   "cell_type": "code",
   "execution_count": 9,
   "metadata": {},
   "outputs": [],
   "source": [
    "basedir = '/Users/pbousounis/Experiments/2019-10-29_hg19mod/RefSeqGFF3_GRCh37-download_validate'\n",
    "os.chdir(basedir)"
   ]
  },
  {
   "cell_type": "markdown",
   "metadata": {},
   "source": [
    "### Define function ***fetch_ncbi()***"
   ]
  },
  {
   "cell_type": "code",
   "execution_count": 4,
   "metadata": {},
   "outputs": [],
   "source": [
    "\"\"\" Given a FTP server address, user name, password, FTP filepath, and filename:\n",
    "    1. Download the desired file from the specified FTP directory\n",
    "    2. Download the associated md5checksum file\n",
    "    3. Compare the md5checksums to verify file integrity \"\"\"\n",
    "\n",
    "def fetch_ncbi(server, user, passwd, path, filename):\n",
    "    \n",
    "    # specify domain name\n",
    "    ftp = FTP(server)\n",
    "    ftp.login(user = user, passwd = passwd)\n",
    "    \n",
    "    # specify FTP directory\n",
    "    ftp.cwd(path)\n",
    "    \n",
    "    # create/specify output directory\n",
    "    os.makedirs(filename, exist_ok = True)\n",
    "    \n",
    "    # prepare local file to be written according to remote file contents\n",
    "    file_path_out = os.path.join(filename, filename)\n",
    "    localfile = open(file_path_out, 'wb')\n",
    "    \n",
    "    # retrieve binary data from server and write to local file\n",
    "    # buffering: 1024 chunks transferred at a time\n",
    "    ftp.retrbinary('RETR ' + filename, localfile.write, 1024)\n",
    "    ftp.quit()\n",
    "    localfile.close()\n",
    "    \n",
    "    if os.path.isfile(os.path.join(filename, filename)):\n",
    "        print('Success! {} saved to {}'.format(filename, file_path_out))\n",
    "    else:\n",
    "        print('ERROR: file not downloaded.')"
   ]
  },
  {
   "cell_type": "markdown",
   "metadata": {},
   "source": [
    "### Define function ***check_md5()***"
   ]
  },
  {
   "cell_type": "code",
   "execution_count": 5,
   "metadata": {},
   "outputs": [],
   "source": [
    "def check_md5(file, checksum_file):\n",
    "    \n",
    "    \"\"\" Given a newly downloaded database file:\n",
    "        * Compare md5 checksums of downloaded file ('file') and associated md5 file ('checksum_file') \"\"\"\n",
    "    \n",
    "    # Open the downloaded checksum file\n",
    "    with open(checksum_file, 'rb') as checksumFile:\n",
    "        md5Checksum = checksumFile.read()\n",
    "        ref_md5 = str(md5Checksum.split()[0]).split(\"\\'\")[1]\n",
    "\n",
    "    # Calculate the downloaded VCF md5sum\n",
    "    md5_hash = hashlib.md5()\n",
    "\n",
    "    with open(file,'rb') as f:\n",
    "\n",
    "        # Read and update hash in chunks of 4K\n",
    "        for byte_block in iter(lambda: f.read(4096),b\"\"):\n",
    "            md5_hash.update(byte_block)\n",
    "\n",
    "        vcf_md5 = md5_hash.hexdigest()\n",
    "\n",
    "    # Reference md5sum\n",
    "    print(f'Reference md5sum - {ref_md5}')\n",
    "    # VCF calculated md5sum\n",
    "    print(f'VCF md5sum ------- {vcf_md5}\\n')\n",
    "\n",
    "    if ref_md5 == vcf_md5:\n",
    "        print(\"MATCH\")\n",
    "    else:\n",
    "        print(\"ERROR: NO MATCH\")"
   ]
  },
  {
   "cell_type": "markdown",
   "metadata": {},
   "source": [
    "### Download the latest ClinVar GRCh37 VCF clinical variants file from the NCBI FTP server to a new directory"
   ]
  },
  {
   "cell_type": "code",
   "execution_count": 9,
   "metadata": {},
   "outputs": [
    {
     "name": "stdout",
     "output_type": "stream",
     "text": [
      "Success! clinvar.vcf.gz saved to clinvar.vcf.gz/clinvar.vcf.gz\n"
     ]
    }
   ],
   "source": [
    "# fetch the annotation file\n",
    "fetch_ncbi('ftp.ncbi.nlm.nih.gov',\n",
    "             'anonymous', 'pbousounis@childrensnational.org',\n",
    "             '/pub/clinvar/vcf_GRCh37/', \n",
    "             'clinvar.vcf.gz')"
   ]
  },
  {
   "cell_type": "markdown",
   "metadata": {},
   "source": [
    "### Fetch the associated checksum file if present"
   ]
  },
  {
   "cell_type": "code",
   "execution_count": 10,
   "metadata": {},
   "outputs": [
    {
     "name": "stdout",
     "output_type": "stream",
     "text": [
      "Success! clinvar.vcf.gz.md5 saved to clinvar.vcf.gz.md5/clinvar.vcf.gz.md5\n",
      "Finished.\n"
     ]
    }
   ],
   "source": [
    "try:\n",
    "    fetch_ncbi('ftp.ncbi.nlm.nih.gov',\n",
    "                 'anonymous', 'pbousounis@childrensnational.org',\n",
    "                 '/pub/clinvar/vcf_GRCh37/', \n",
    "                 'clinvar.vcf.gz.md5')\n",
    "except:\n",
    "    print(\"WARNING: checksum file could not be located/downloaded.\")\n",
    "    shutil.rmtree('clinvar.vcf.gz.md5')\n",
    "finally:\n",
    "    print(\"Finished.\")"
   ]
  },
  {
   "cell_type": "code",
   "execution_count": 13,
   "metadata": {},
   "outputs": [
    {
     "data": {
      "text/plain": [
       "'/Users/pbousounis/Experiments/2019-10-29_hg19mod/ClinVarVCF-GRCh37_download_validate'"
      ]
     },
     "execution_count": 13,
     "metadata": {},
     "output_type": "execute_result"
    }
   ],
   "source": [
    "os.getcwd()"
   ]
  },
  {
   "cell_type": "markdown",
   "metadata": {},
   "source": [
    "### Verify download integrity"
   ]
  },
  {
   "cell_type": "code",
   "execution_count": 14,
   "metadata": {},
   "outputs": [
    {
     "name": "stdout",
     "output_type": "stream",
     "text": [
      "Reference md5sum - 9448df54be6b6700ab10b81d968fe5ce\n",
      "VCF md5sum ------- 9448df54be6b6700ab10b81d968fe5ce\n",
      "\n",
      "MATCH\n"
     ]
    }
   ],
   "source": [
    "file = 'clinvar.vcf.gz/clinvar.vcf.gz'\n",
    "checksum_file = 'clinvar.vcf.gz.md5/clinvar.vcf.gz.md5'\n",
    "check_md5(file, checksum_file)"
   ]
  },
  {
   "cell_type": "markdown",
   "metadata": {},
   "source": [
    "## Results:\n",
    "\n",
    "1. ***clinvar.vcf.gz*** was downloaded from ***ftp.ncbi.nlm.nih.gov/pub/clinvar/vcf_GRCh37*** to ***/Users/pbousounis/Experiments/2019-10-29_hg19mod/ClinVarVCF-GRCh37_download_validate/clinvar.vcf.gz/***\n",
    "\n",
    "2. ***clinvar.vcf.gz.md5*** was downloaded from ***ftp.ncbi.nlm.nih.gov/pub/clinvar/vcf_GRCh37*** to ***/Users/pbousounis/Experiments/2019-10-29_hg19mod/ClinVarVCF-GRCh37_download_validate/clinvar.vcf.gz.md5/***\n",
    "\n",
    "3. ***clinvar.vcf.gz*** and ***clinvar.vcf.gz.md5*** md5sums MATCH = OK"
   ]
  }
 ],
 "metadata": {
  "kernelspec": {
   "display_name": "Python 3",
   "language": "python",
   "name": "python3"
  },
  "language_info": {
   "codemirror_mode": {
    "name": "ipython",
    "version": 3
   },
   "file_extension": ".py",
   "mimetype": "text/x-python",
   "name": "python",
   "nbconvert_exporter": "python",
   "pygments_lexer": "ipython3",
   "version": "3.7.4"
  }
 },
 "nbformat": 4,
 "nbformat_minor": 4
}
