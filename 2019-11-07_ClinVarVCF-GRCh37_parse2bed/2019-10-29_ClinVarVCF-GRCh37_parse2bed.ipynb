{
 "cells": [
  {
   "cell_type": "markdown",
   "metadata": {},
   "source": [
    "### 29 October 2019\n",
    "# Import and parse ClinVar VCF file to a bed-like data frame\n",
    "### by Pavlos Bousounis\n",
    "***Last updated 11/07/2019***"
   ]
  },
  {
   "cell_type": "markdown",
   "metadata": {},
   "source": [
    "## Import modules"
   ]
  },
  {
   "cell_type": "code",
   "execution_count": 1,
   "metadata": {},
   "outputs": [],
   "source": [
    "from datetime import datetime\n",
    "import gzip\n",
    "import os\n",
    "import numpy as np\n",
    "import pandas as pd\n",
    "import shutil"
   ]
  },
  {
   "cell_type": "code",
   "execution_count": 2,
   "metadata": {},
   "outputs": [
    {
     "name": "stdout",
     "output_type": "stream",
     "text": [
      "Current working directory: /Users/pbousounis/Experiments/2019-10-29_hg19mod/2019-11-07_ClinVarVCF-GRCh37_parse2bed\n",
      "\n",
      "Today is: 2019-11-14\n"
     ]
    }
   ],
   "source": [
    "# get today's date\n",
    "today = datetime.today().strftime('%Y-%m-%d')\n",
    "\n",
    "# print date and current directory\n",
    "print('Current working directory: {}\\n'.format(os.getcwd()))\n",
    "print('Today is: {}'.format(today))"
   ]
  },
  {
   "cell_type": "markdown",
   "metadata": {},
   "source": [
    "### Set working directory"
   ]
  },
  {
   "cell_type": "code",
   "execution_count": 4,
   "metadata": {},
   "outputs": [],
   "source": [
    "basedir = '/Users/pbousounis/Experiments/2019-10-29_hg19mod/2019-11-07_ClinVarVCF-GRCh37_parse2bed/'\n",
    "os.chdir(basedir)"
   ]
  },
  {
   "cell_type": "markdown",
   "metadata": {},
   "source": [
    "### Decompress the VCF archive"
   ]
  },
  {
   "cell_type": "code",
   "execution_count": 10,
   "metadata": {},
   "outputs": [],
   "source": [
    "# decompress the gunzipped file\n",
    "gff_gz = 'data/clinvar.vcf.gz'\n",
    "gff_out = 'data/clinvar.vcf'\n",
    "\n",
    "with gzip.open(gff_gz, 'rb') as f_in:\n",
    "    with open(gff_out, 'wb') as f_out:\n",
    "        shutil.copyfileobj(f_in, f_out)"
   ]
  },
  {
   "cell_type": "markdown",
   "metadata": {},
   "source": [
    "### Import the ClinVar and parse"
   ]
  },
  {
   "cell_type": "code",
   "execution_count": 7,
   "metadata": {},
   "outputs": [],
   "source": [
    "def clinvar2bed_plp(clinvar_vcf_file):\n",
    "    \n",
    "    # define column names\n",
    "    colns = ['chr', 'pos', 'vid', 'ref', 'alt', 'qual', 'filter', 'info']\n",
    "    cv_vcf = pd.read_csv(clinvar_vcf_file, sep = '\\t', comment='#', low_memory=False, header=None,\n",
    "                         index_col=False, names=colns)\n",
    "\n",
    "    # extract clinical significance column\n",
    "    cv_vcf.loc[:, 'clnsig'] = cv_vcf['info'].str.extract(r'(CLNSIG=)(\\w+);')[1]\n",
    "    # extract gene info column\n",
    "    cv_vcf.loc[:, 'gene'] = cv_vcf['info'].str.extract(r'(GENEINFO=)(\\w+)')[1]\n",
    "\n",
    "    cv_vcf_plp = cv_vcf[(cv_vcf.clnsig == 'Pathogenic') | (cv_vcf.clnsig == 'Likely_pathogenic')]\n",
    "    cv_vcf_plp.head(20)\n",
    "\n",
    "    # NOTICE:\n",
    "    # specify start and end coordinates and convert to 0-based\n",
    "    cv_vcf_plp.loc[:, 'start'] = cv_vcf_plp['pos'] #- 1\n",
    "    cv_vcf_plp.loc[:, 'end'] = cv_vcf_plp['pos']\n",
    "    cv_vcf_plp.loc[:, 'name'] = cv_vcf_plp['vid'].map(str) + '_' + cv_vcf_plp['gene']\n",
    "\n",
    "    cv_bed_plp = cv_vcf_plp[['chr', 'start', 'end', 'name']]\n",
    "    cv_bed_plp.head()\n",
    "\n",
    "    return(cv_bed_plp)"
   ]
  },
  {
   "cell_type": "markdown",
   "metadata": {},
   "source": [
    "### Convert the ClinVar VCF to BED file"
   ]
  },
  {
   "cell_type": "code",
   "execution_count": 8,
   "metadata": {},
   "outputs": [
    {
     "name": "stderr",
     "output_type": "stream",
     "text": [
      "/opt/anaconda3/envs/biopython/lib/python3.7/site-packages/pandas/core/indexing.py:376: SettingWithCopyWarning: \n",
      "A value is trying to be set on a copy of a slice from a DataFrame.\n",
      "Try using .loc[row_indexer,col_indexer] = value instead\n",
      "\n",
      "See the caveats in the documentation: http://pandas.pydata.org/pandas-docs/stable/user_guide/indexing.html#returning-a-view-versus-a-copy\n",
      "  self.obj[key] = _infer_fill_value(value)\n",
      "/opt/anaconda3/envs/biopython/lib/python3.7/site-packages/pandas/core/indexing.py:494: SettingWithCopyWarning: \n",
      "A value is trying to be set on a copy of a slice from a DataFrame.\n",
      "Try using .loc[row_indexer,col_indexer] = value instead\n",
      "\n",
      "See the caveats in the documentation: http://pandas.pydata.org/pandas-docs/stable/user_guide/indexing.html#returning-a-view-versus-a-copy\n",
      "  self.obj[item] = s\n"
     ]
    }
   ],
   "source": [
    "clinvar_vcf_file = 'data/clinvar.vcf.gz'\n",
    "cv_bed = clinvar2bed_plp(clinvar_vcf_file)"
   ]
  },
  {
   "cell_type": "markdown",
   "metadata": {},
   "source": [
    "### Drop rows with NAs"
   ]
  },
  {
   "cell_type": "code",
   "execution_count": 26,
   "metadata": {},
   "outputs": [],
   "source": [
    "cv_bed = cv_bed.dropna()"
   ]
  },
  {
   "cell_type": "markdown",
   "metadata": {},
   "source": [
    "### Save the parsed ClinVar pathogenic/likely-pathogenic BED file"
   ]
  },
  {
   "cell_type": "code",
   "execution_count": 27,
   "metadata": {},
   "outputs": [
    {
     "name": "stdout",
     "output_type": "stream",
     "text": [
      "Success! File saved to output/2019-11-07_ClinVar-GRCh37_path-likely_path.bed.\n"
     ]
    }
   ],
   "source": [
    "cv_bed_plp_name = 'output/' + today + '_ClinVar-GRCh37_path-likely_path.bed'\n",
    "cv_bed.to_csv(cv_bed_plp_name, sep='\\t', index=False)\n",
    "\n",
    "if os.path.isfile(cv_bed_plp_name):\n",
    "    print('Success! File saved to {}.'.format(cv_bed_plp_name))"
   ]
  },
  {
   "cell_type": "markdown",
   "metadata": {},
   "source": [
    "# Results:\n",
    "\n",
    "1. CinVar GRCh37 latest clinical variants VCF archive was decompressed\n",
    "2. Decompressed VCF was parsed to a bed file containing only pathogenic and likely-pathogenic regions\n",
    "3. Rows containing NAs were removed for compatibility with pybedtools \n",
    "4. BED formatted file saved to ***./output/2019-11-07_ClinVar-GRCh37_path-likely_path.bed***"
   ]
  }
 ],
 "metadata": {
  "kernelspec": {
   "display_name": "Python 3",
   "language": "python",
   "name": "python3"
  },
  "language_info": {
   "codemirror_mode": {
    "name": "ipython",
    "version": 3
   },
   "file_extension": ".py",
   "mimetype": "text/x-python",
   "name": "python",
   "nbconvert_exporter": "python",
   "pygments_lexer": "ipython3",
   "version": "3.7.3"
  }
 },
 "nbformat": 4,
 "nbformat_minor": 4
}
